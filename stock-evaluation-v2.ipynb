{
  "nbformat": 4,
  "nbformat_minor": 0,
  "metadata": {
    "colab": {
      "provenance": [],
      "authorship_tag": "ABX9TyMB++enDQezMDmzcqMnAbne",
      "include_colab_link": true
    },
    "kernelspec": {
      "name": "python3",
      "display_name": "Python 3"
    },
    "language_info": {
      "name": "python"
    }
  },
  "cells": [
    {
      "cell_type": "markdown",
      "metadata": {
        "id": "view-in-github",
        "colab_type": "text"
      },
      "source": [
        "<a href=\"https://colab.research.google.com/github/SMRayeed/Stock-Data-Analysis/blob/main/stock_evaluation.ipynb\" target=\"_parent\"><img src=\"https://colab.research.google.com/assets/colab-badge.svg\" alt=\"Open In Colab\"/></a>"
      ]
    },
    {
      "cell_type": "code",
      "source": [
        "import pandas as pd"
      ],
      "metadata": {
        "id": "nTwOB4WBlYv6"
      },
      "execution_count": 2,
      "outputs": []
    },
    {
      "cell_type": "code",
      "source": [
        "from google.colab import drive\n",
        "drive.mount('/content/drive')"
      ],
      "metadata": {
        "colab": {
          "base_uri": "https://localhost:8080/"
        },
        "id": "bCTdWeWsdR9J",
        "outputId": "983b3d5b-e9de-4726-e982-3e2d3225d9ba"
      },
      "execution_count": 3,
      "outputs": [
        {
          "output_type": "stream",
          "name": "stdout",
          "text": [
            "Mounted at /content/drive\n"
          ]
        }
      ]
    },
    {
      "cell_type": "code",
      "source": [
        "df_res = pd.read_csv('/content/drive/MyDrive/results.csv')"
      ],
      "metadata": {
        "id": "_eKpUHa0eCiQ"
      },
      "execution_count": 4,
      "outputs": []
    },
    {
      "cell_type": "code",
      "source": [
        "df_res.info()"
      ],
      "metadata": {
        "colab": {
          "base_uri": "https://localhost:8080/"
        },
        "id": "Q0dY4jDYKIZP",
        "outputId": "c805809f-1012-4020-b1ba-08a7e35bc442"
      },
      "execution_count": 5,
      "outputs": [
        {
          "output_type": "stream",
          "name": "stdout",
          "text": [
            "<class 'pandas.core.frame.DataFrame'>\n",
            "RangeIndex: 138 entries, 0 to 137\n",
            "Data columns (total 4 columns):\n",
            " #   Column  Non-Null Count  Dtype  \n",
            "---  ------  --------------  -----  \n",
            " 0   date    138 non-null    object \n",
            " 1   true    138 non-null    float64\n",
            " 2   gru     138 non-null    float64\n",
            " 3   lstm    138 non-null    float64\n",
            "dtypes: float64(3), object(1)\n",
            "memory usage: 4.4+ KB\n"
          ]
        }
      ]
    },
    {
      "cell_type": "code",
      "source": [
        "df_res['date'] = pd.to_datetime(df_res['date'])"
      ],
      "metadata": {
        "id": "LULx4RpjKRzH"
      },
      "execution_count": 6,
      "outputs": []
    },
    {
      "cell_type": "code",
      "source": [
        "df_res.info()"
      ],
      "metadata": {
        "colab": {
          "base_uri": "https://localhost:8080/"
        },
        "id": "haqXQJTpKUZ7",
        "outputId": "102c2b14-a21e-430a-a5d1-7c968ab1ec24"
      },
      "execution_count": 7,
      "outputs": [
        {
          "output_type": "stream",
          "name": "stdout",
          "text": [
            "<class 'pandas.core.frame.DataFrame'>\n",
            "RangeIndex: 138 entries, 0 to 137\n",
            "Data columns (total 4 columns):\n",
            " #   Column  Non-Null Count  Dtype         \n",
            "---  ------  --------------  -----         \n",
            " 0   date    138 non-null    datetime64[ns]\n",
            " 1   true    138 non-null    float64       \n",
            " 2   gru     138 non-null    float64       \n",
            " 3   lstm    138 non-null    float64       \n",
            "dtypes: datetime64[ns](1), float64(3)\n",
            "memory usage: 4.4 KB\n"
          ]
        }
      ]
    },
    {
      "cell_type": "code",
      "source": [
        "start_date_input = input(\"Enter the date when you want to invest (yyyy-mm-dd) : \")"
      ],
      "metadata": {
        "colab": {
          "base_uri": "https://localhost:8080/"
        },
        "id": "BR6Jzd2rJ02k",
        "outputId": "3e5e7d66-024c-40b2-9800-c60765f840ff"
      },
      "execution_count": 9,
      "outputs": [
        {
          "name": "stdout",
          "output_type": "stream",
          "text": [
            "Enter the date when you want to invest (yyyy-mm-dd) : 2022-08-01\n"
          ]
        }
      ]
    },
    {
      "cell_type": "code",
      "source": [
        "result = df_res[df_res['date'] == start_date_input]['true'].values\n",
        "\n",
        "if result.size > 0:\n",
        "    print(f\"True value on {start_date_input} : {result[0]:.6f}\")\n",
        "else:\n",
        "    print(f\"No data found for {start_date_input}\")"
      ],
      "metadata": {
        "colab": {
          "base_uri": "https://localhost:8080/"
        },
        "id": "sn6GSR3JeHxI",
        "outputId": "0903c01e-1e85-442a-d014-dcfc56d7ab00"
      },
      "execution_count": 10,
      "outputs": [
        {
          "output_type": "stream",
          "name": "stdout",
          "text": [
            "True value on 2022-08-01 : 233.070007\n"
          ]
        }
      ]
    },
    {
      "cell_type": "code",
      "source": [
        "invest = float(input(\"How much money you want to invest (USD) : \"))\n",
        "add_cost = float(input(\"Additional Cost (%) : \"))\n",
        "\n",
        "total_invest = round(invest*(1+(add_cost/100)),2)\n",
        "\n",
        "if total_invest/2 < result[0] :\n",
        "  print(f\"Sorry, not enough investment!\")"
      ],
      "metadata": {
        "colab": {
          "base_uri": "https://localhost:8080/"
        },
        "id": "2yhgnpcwy0jW",
        "outputId": "c18d40f0-8b73-483c-ceac-bd09ad5c10bc"
      },
      "execution_count": 12,
      "outputs": [
        {
          "name": "stdout",
          "output_type": "stream",
          "text": [
            "How much money you want to invest (USD) : 5000\n",
            "Additional Cost (%) : 10\n"
          ]
        }
      ]
    },
    {
      "cell_type": "code",
      "source": [
        "num_stocks = invest/result[0]\n",
        "print(num_stocks)"
      ],
      "metadata": {
        "colab": {
          "base_uri": "https://localhost:8080/"
        },
        "id": "lq8FN1JIl1pE",
        "outputId": "cee4c79e-df78-48ed-f462-34e52f16fbd9"
      },
      "execution_count": 13,
      "outputs": [
        {
          "output_type": "stream",
          "name": "stdout",
          "text": [
            "21.45278175172752\n"
          ]
        }
      ]
    },
    {
      "cell_type": "code",
      "source": [
        "invest_type = input(\"Do you want Quick Profit, or Maximum Profit (q/m)? : \")\n",
        "\n",
        "if invest_type.lower() == \"q\" or invest_type.lower() == \"quick\" :\n",
        "\n",
        "  window = 14\n",
        "\n",
        "  rows_after_invest_date = df_res[df_res['date'] > start_date_input].head(window)\n",
        "\n",
        "  if not rows_after_invest_date.empty:\n",
        "      min_value_true_column = rows_after_invest_date['true'].min()\n",
        "\n",
        "      original_value_at_invest_date = df_res.loc[df_res['date'] == start_date_input, 'true'].values[0]\n",
        "\n",
        "      if min_value_true_column < original_value_at_invest_date:\n",
        "          print(f\"Minimum value for 'true' column in the next 14 rows ({min_value_true_column}) is less than the original value at the investment date ({original_value_at_invest_date}).\")\n",
        "      else:\n",
        "          print(f\"The minimum value for 'true' column in the next 14 rows ({min_value_true_column}) is not less than the original value at the investment date ({original_value_at_invest_date}).\")\n",
        "  else:\n",
        "      print(\"ERROR: No values found after the given date.\")\n"
      ],
      "metadata": {
        "colab": {
          "base_uri": "https://localhost:8080/"
        },
        "id": "MpA02uqnL1E1",
        "outputId": "27e9d191-c532-4c1e-d647-48003ead2a2e"
      },
      "execution_count": null,
      "outputs": [
        {
          "output_type": "stream",
          "name": "stdout",
          "text": [
            "Do you want Quick Profit, or Maximum Profit (q/m)? : q\n",
            "The minimum value for 'true' column in the next 14 rows (237.0399932861328) is not less than the original value at the investment date (233.07000732421875).\n"
          ]
        }
      ]
    },
    {
      "cell_type": "code",
      "source": [
        "filtered_df = df_res[df_res['date'] > start_date_input]\n",
        "\n",
        "min_true_value = filtered_df['true'].min()\n",
        "min_true_date = filtered_df.loc[filtered_df['true'].idxmin()]['date']\n",
        "min_true_date = min_true_date.strftime('%Y-%m-%d')\n",
        "\n",
        "print(\"Minimum value in 'true' column after 2022-08-21:\", min_true_value)\n",
        "print(\"Date when it occurred:\", min_true_date)"
      ],
      "metadata": {
        "colab": {
          "base_uri": "https://localhost:8080/"
        },
        "id": "nukbsWXWN-vV",
        "outputId": "5b699a95-9332-49c5-b238-4b5f1af3555c"
      },
      "execution_count": 14,
      "outputs": [
        {
          "output_type": "stream",
          "name": "stdout",
          "text": [
            "Minimum value in 'true' column after 2022-08-21: 167.8699951171875\n",
            "Date when it occurred: 2022-12-12\n"
          ]
        }
      ]
    },
    {
      "cell_type": "code",
      "source": [
        "buy_cost = (num_stocks*min_true_value)"
      ],
      "metadata": {
        "id": "dH6G7oqymb5C"
      },
      "execution_count": 31,
      "outputs": []
    },
    {
      "cell_type": "code",
      "source": [
        "profit = invest*(1-(add_cost/100)) - (buy_cost)\n",
        "print(f'Max. Profit (USD) : {profit:.2f}')\n",
        "profit_percent = (profit/invest)*100\n",
        "print(f'Max. Profit (%) : {profit_percent:.2f} %')"
      ],
      "metadata": {
        "colab": {
          "base_uri": "https://localhost:8080/"
        },
        "id": "WjAkswZamRnO",
        "outputId": "1e92dba5-109b-424a-c799-2fbd7a0c48b3"
      },
      "execution_count": 29,
      "outputs": [
        {
          "output_type": "stream",
          "name": "stdout",
          "text": [
            "Max. Profit (USD) : 898.72\n",
            "Max. Profit (%) : 17.97 %\n"
          ]
        }
      ]
    },
    {
      "cell_type": "code",
      "source": [
        "print(f\"Investment Date -----------> {start_date_input}\")\n",
        "print(f\"Investment Amount ---------> {invest:.2f}\")\n",
        "print(f\"Additional Cost(%) --------> {add_cost:.2f}%\")\n",
        "print(f\"Optimal Buying Date -------> {min_true_date}\")\n",
        "print(f\"Optimal Buying Cost -------> {buy_cost:.2f}\")\n",
        "print(f\"Profit (after add. cost) --> {profit:.2f}\")\n",
        "print(f\"Profit Percentage ---------> {profit_percent:.2f} %\")"
      ],
      "metadata": {
        "colab": {
          "base_uri": "https://localhost:8080/"
        },
        "id": "acyJMsW1miNx",
        "outputId": "e6169405-98ec-4870-8f87-06c4eb196d42"
      },
      "execution_count": 48,
      "outputs": [
        {
          "output_type": "stream",
          "name": "stdout",
          "text": [
            "Investment Date -----------> 2022-08-01\n",
            "Investment Amount ---------> 5000.00\n",
            "Additional Cost(%) --------> 10.00%\n",
            "Optimal Buying Date -------> 2022-12-12\n",
            "Optimal Buying Cost -------> 3601.28\n",
            "Profit (after add. cost) --> 898.72\n",
            "Profit Percentage ---------> 17.97 %\n"
          ]
        }
      ]
    }
  ]
}